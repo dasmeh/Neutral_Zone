{
 "cells": [
  {
   "cell_type": "code",
   "execution_count": 1,
   "id": "09f325cf",
   "metadata": {},
   "outputs": [],
   "source": [
    "### This function will update the resistance level of a WT protein into all other states by using \n",
    "### a distribution of molecular effects (DME). In our work this distribution is a vector of scalers\n",
    "### that will be applied to the resistance level of a WT protein. Each scaler is in itself a ratio that\n",
    "### was calculated from dividing resistance level of a mutant to that of WT. Here is a numerical example\n",
    "### to make this procedure more clear: If X_WT=2 ug/ml and we apply a simple DME of three scales c(1,0.5,2),\n",
    "### the new resistance levels are: 2*1=2, 2*0.5=1, and 2*2=4 ug/ml.\n",
    "### For a realistic simulation, we took the ratios of mutants' resistance level to WT from our previous deep\n",
    "### mutational scanning experiments:\n",
    "\n",
    "### References\n",
    "## Chen, J. Z., Fowler, D. M., & Tokuriki, N. (2020). Comprehensive exploration of the translocation, stability and substrate recognition requirements in VIM-2 lactamase. Elife, 9, e56707.\n",
    "## Chen, J. Z., Fowler, D. M., & Tokuriki, N. (2022). Environmental selection and epistasis in an empirical phenotype–environment–fitness landscape. Nature Ecology & Evolution, 6(4), 427-438.\n",
    "\n",
    "## @Pouria Dasmeh; Marburg University, Germany (dasmeh@staff.uni-marburg.de)\n",
    "\n",
    "drift_MIC=function(X_WT, DME, R){\n",
    "    \n",
    "MIC_WT=X_WT\n",
    "new_MIC=MIC_WT*DME\n",
    "R_cap=rep(0, length(R))\n",
    "    \n",
    "for (i in 1:length(new_MIC)){\n",
    "    index=which.min(abs(new_MIC[i] - R)) \n",
    "    R_cap[index]=R_cap[index] +1\n",
    "}  \n",
    "    P_drift=R_cap/length(new_MIC)\n",
    "    return(P_drift)    \n",
    "}"
   ]
  },
  {
   "cell_type": "code",
   "execution_count": null,
   "id": "835103b9",
   "metadata": {},
   "outputs": [],
   "source": []
  }
 ],
 "metadata": {
  "kernelspec": {
   "display_name": "R 4.0",
   "language": "R",
   "name": "ir40"
  },
  "language_info": {
   "codemirror_mode": "r",
   "file_extension": ".r",
   "mimetype": "text/x-r-source",
   "name": "R",
   "pygments_lexer": "r",
   "version": "4.2.2"
  }
 },
 "nbformat": 4,
 "nbformat_minor": 5
}
