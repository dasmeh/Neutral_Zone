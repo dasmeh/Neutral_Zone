{
 "cells": [
  {
   "cell_type": "code",
   "execution_count": null,
   "id": "a72bc46e",
   "metadata": {},
   "outputs": [],
   "source": [
    "# The core of Markov chains simulstions\n",
    "# Here, we simulate discrete Markov chains according to transition matrix P\n",
    "\n",
    "run.mc.sim <- function(P, num.iters, init_state) {\n",
    "  \n",
    "  # number of possible states\n",
    "  num.states <- nrow(P)\n",
    "  \n",
    "  # stores the states X_t through time\n",
    "  states     <- numeric(num.iters)\n",
    "\n",
    "  # initialize variable for first state \n",
    "  states[1]    <- init_state\n",
    "\n",
    "  for(t in 2:num.iters) {\n",
    "    \n",
    "    # probability vector to simulate next state X_{t+1}\n",
    "    p  <- P[states[t-1], ]\n",
    "    \n",
    "    ## draw from multinomial and determine state\n",
    "    states[t] <-  which(rmultinom(1, 1, p) == 1)\n",
    "  }\n",
    "  return(states)\n",
    "}\n",
    "\n"
   ]
  }
 ],
 "metadata": {
  "kernelspec": {
   "display_name": "R 4.0",
   "language": "R",
   "name": "ir40"
  },
  "language_info": {
   "codemirror_mode": "r",
   "file_extension": ".r",
   "mimetype": "text/x-r-source",
   "name": "R",
   "pygments_lexer": "r",
   "version": "4.2.2"
  }
 },
 "nbformat": 4,
 "nbformat_minor": 5
}
